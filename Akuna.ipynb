{
 "cells": [
  {
   "cell_type": "code",
   "execution_count": 8,
   "metadata": {
    "collapsed": false
   },
   "outputs": [
    {
     "name": "stdout",
     "output_type": "stream",
     "text": [
      "[1, 2]\n"
     ]
    },
    {
     "data": {
      "text/plain": [
       "1.5"
      ]
     },
     "execution_count": 8,
     "metadata": {},
     "output_type": "execute_result"
    }
   ],
   "source": [
    "# Question 1\n",
    "def subarray_median(arr, k):\n",
    "    new_arr = []\n",
    "    for element in arr:\n",
    "        if element<=k:\n",
    "            new_arr.append(element)\n",
    "    print(new_arr)\n",
    "    length = len(new_arr)\n",
    "    half_len = int(length/2)\n",
    "    if length%2 ==0:\n",
    "        return((new_arr[half_len-1]+new_arr[half_len])/2)\n",
    "    else: \n",
    "        return(new_arr[half_len])\n",
    "subarray_median([1,2,3],2)"
   ]
  },
  {
   "cell_type": "code",
   "execution_count": 18,
   "metadata": {
    "collapsed": false
   },
   "outputs": [
    {
     "data": {
      "text/plain": [
       "['green', 'red']"
      ]
     },
     "execution_count": 18,
     "metadata": {},
     "output_type": "execute_result"
    }
   ],
   "source": [
    "# Question 2\n",
    "trades = [[99,5,20],[95,15,10],[5,80,40],[3,92,20]]\n",
    "labels = ['green','green','red','red']\n",
    "new_trades = [[90,10,15],[10,98,50]]\n",
    "def distance(trades, labels, new_trade, assumed_label):\n",
    "    distance = 0;\n",
    "    count = 0;\n",
    "    for i in range(len(labels)):\n",
    "        if labels[i] == assumed_label:\n",
    "            count = count +1\n",
    "            portion = 0\n",
    "            for j in range(3):\n",
    "                portion = portion + abs(trades[i][j] - new_trade[j])\n",
    "            distance = distance + portion\n",
    "    return(distance/count)\n",
    "\n",
    "def classify(trades, labels, new_trades):\n",
    "    new_labels = []\n",
    "    for new_trade in new_trades:\n",
    "        if distance(trades, labels, new_trade,'red') >= distance(trades, labels, new_trade,'green'):\n",
    "            new_labels.append('green')\n",
    "        else:\n",
    "            new_labels.append('red')\n",
    "    return(new_labels)\n",
    "\n",
    "classify(trades,labels,new_trades)"
   ]
  },
  {
   "cell_type": "code",
   "execution_count": 19,
   "metadata": {
    "collapsed": true
   },
   "outputs": [],
   "source": [
    "#Question 3\n",
    "\n",
    "def reach(side_length, lake_grid, move_row, move_column, dest_row, dest_column):\n",
    "    if move_row == dest_row & move_column == dest_column:\n",
    "        return True\n",
    "    # Recursive call\n",
    "    # Up\n",
    "    for i in range(1,move_row+1):\n",
    "        if lake_grid[move_row-i][move_column]==-1:\n",
    "            break\n",
    "        elif lake_grid[move_row-i][move_column]==1:\n",
    "            reach(side_length, lake_grid, move_row-i, move_column, dest_row, dest_column)\n",
    "    # Down\n",
    "    for i in range(move_row+1,side_length):\n",
    "        if lake_grid[i][move_column]==-1:\n",
    "            break\n",
    "        elif lake_grid[i][move_column]==1:\n",
    "            reach(side_length, lake_grid, i, move_column, dest_row, dest_column)         \n",
    "    # Left\n",
    "    for i in range(1,move_column+1):\n",
    "        if lake_grid[move_row][move_column-i]==-1:\n",
    "            break\n",
    "        elif lake_grid[move_row][move_column-i]==1:\n",
    "            reach(side_length, lake_grid, move_row, move_column-i, dest_row, dest_column)\n",
    "    # Right\n",
    "    for i in range(move_column+1,side_length):\n",
    "        if lake_grid[move_row][i]==-1:\n",
    "            break\n",
    "        elif lake_grid[move_row][i]==1:\n",
    "            reach(side_length, lake_grid, move_row, i, dest_row, dest_column)  \n",
    "    return(False)\n",
    "           \n",
    "def reach_shore(side_length, lake_grid, move_row, move_column):\n",
    "    for i in range(side_length):\n",
    "        if reach(side_length, lake_grid, move_row, move_column, 0,i):\n",
    "            return True\n",
    "        elif reach(side_length, lake_grid, move_row, move_column, i,0):\n",
    "            return True\n",
    "    return False\n",
    "\n",
    "def  escape(side_length, lake_grid, albert_row, albert_column, kuna_row, kuna_column):\n",
    "    if reach(side_length,lake_grid, albert_row,albert_column,kuna_row,kuna_column) & reach_shore(side_length, lake_grid, kuna_row, kuna_column):\n",
    "        return 1\n",
    "    else:\n",
    "        return 0"
   ]
  },
  {
   "cell_type": "code",
   "execution_count": 20,
   "metadata": {
    "collapsed": true
   },
   "outputs": [],
   "source": [
    "# Question 3 (partly working version):\n",
    "def reach(lake_grid, a_row, a_col, b_row, b_col):\n",
    "    if (a_row == b_row) | (a_col==b_col) | (lake_grid[a_row][b_col]==1) | (lake_grid[b_row][a_col]==1):\n",
    "        return True\n",
    "    else:\n",
    "        return False\n",
    "\n",
    "def reach_shore(side_length, lake_grid, move_row, move_column):\n",
    "    for i in range(side_length):\n",
    "        if reach(lake_grid, move_row, move_column, 0,i):\n",
    "            return True\n",
    "        elif reach(lake_grid, move_row, move_column, i,0):\n",
    "            return True\n",
    "    return False\n",
    "    \n",
    "def  escape(side_length, lake_grid, albert_row, albert_column, kuna_row, kuna_column):\n",
    "    # this works for a simple example case above\n",
    "    if reach(lake_grid, albert_row, albert_column, kuna_row, kuna_column) & reach_shore(side_length,lake_grid, kuna_row, kuna_column):\n",
    "        return 1\n",
    "    else:\n",
    "        return 0"
   ]
  },
  {
   "cell_type": "code",
   "execution_count": 35,
   "metadata": {
    "collapsed": false
   },
   "outputs": [
    {
     "data": {
      "text/plain": [
       "[datetime.datetime(2017, 5, 20, 14, 47, 0, 127703),\n",
       " datetime.datetime(2017, 5, 19, 14, 47, 0, 127703),\n",
       " datetime.datetime(2017, 5, 18, 14, 47, 0, 127703),\n",
       " datetime.datetime(2017, 5, 17, 14, 47, 0, 127703),\n",
       " datetime.datetime(2017, 5, 16, 14, 47, 0, 127703),\n",
       " datetime.datetime(2017, 5, 15, 14, 47, 0, 127703),\n",
       " datetime.datetime(2017, 5, 14, 14, 47, 0, 127703),\n",
       " datetime.datetime(2017, 5, 13, 14, 47, 0, 127703),\n",
       " datetime.datetime(2017, 5, 12, 14, 47, 0, 127703),\n",
       " datetime.datetime(2017, 5, 11, 14, 47, 0, 127703),\n",
       " datetime.datetime(2017, 5, 10, 14, 47, 0, 127703),\n",
       " datetime.datetime(2017, 5, 9, 14, 47, 0, 127703),\n",
       " datetime.datetime(2017, 5, 8, 14, 47, 0, 127703),\n",
       " datetime.datetime(2017, 5, 7, 14, 47, 0, 127703),\n",
       " datetime.datetime(2017, 5, 6, 14, 47, 0, 127703),\n",
       " datetime.datetime(2017, 5, 5, 14, 47, 0, 127703),\n",
       " datetime.datetime(2017, 5, 4, 14, 47, 0, 127703),\n",
       " datetime.datetime(2017, 5, 3, 14, 47, 0, 127703),\n",
       " datetime.datetime(2017, 5, 2, 14, 47, 0, 127703),\n",
       " datetime.datetime(2017, 5, 1, 14, 47, 0, 127703),\n",
       " datetime.datetime(2017, 4, 30, 14, 47, 0, 127703),\n",
       " datetime.datetime(2017, 4, 29, 14, 47, 0, 127703),\n",
       " datetime.datetime(2017, 4, 28, 14, 47, 0, 127703),\n",
       " datetime.datetime(2017, 4, 27, 14, 47, 0, 127703),\n",
       " datetime.datetime(2017, 4, 26, 14, 47, 0, 127703),\n",
       " datetime.datetime(2017, 4, 25, 14, 47, 0, 127703),\n",
       " datetime.datetime(2017, 4, 24, 14, 47, 0, 127703),\n",
       " datetime.datetime(2017, 4, 23, 14, 47, 0, 127703),\n",
       " datetime.datetime(2017, 4, 22, 14, 47, 0, 127703),\n",
       " datetime.datetime(2017, 4, 21, 14, 47, 0, 127703),\n",
       " datetime.datetime(2017, 4, 20, 14, 47, 0, 127703),\n",
       " datetime.datetime(2017, 4, 19, 14, 47, 0, 127703),\n",
       " datetime.datetime(2017, 4, 18, 14, 47, 0, 127703),\n",
       " datetime.datetime(2017, 4, 17, 14, 47, 0, 127703),\n",
       " datetime.datetime(2017, 4, 16, 14, 47, 0, 127703),\n",
       " datetime.datetime(2017, 4, 15, 14, 47, 0, 127703),\n",
       " datetime.datetime(2017, 4, 14, 14, 47, 0, 127703),\n",
       " datetime.datetime(2017, 4, 13, 14, 47, 0, 127703),\n",
       " datetime.datetime(2017, 4, 12, 14, 47, 0, 127703),\n",
       " datetime.datetime(2017, 4, 11, 14, 47, 0, 127703),\n",
       " datetime.datetime(2017, 4, 10, 14, 47, 0, 127703),\n",
       " datetime.datetime(2017, 4, 9, 14, 47, 0, 127703),\n",
       " datetime.datetime(2017, 4, 8, 14, 47, 0, 127703),\n",
       " datetime.datetime(2017, 4, 7, 14, 47, 0, 127703),\n",
       " datetime.datetime(2017, 4, 6, 14, 47, 0, 127703),\n",
       " datetime.datetime(2017, 4, 5, 14, 47, 0, 127703),\n",
       " datetime.datetime(2017, 4, 4, 14, 47, 0, 127703),\n",
       " datetime.datetime(2017, 4, 3, 14, 47, 0, 127703),\n",
       " datetime.datetime(2017, 4, 2, 14, 47, 0, 127703),\n",
       " datetime.datetime(2017, 4, 1, 14, 47, 0, 127703),\n",
       " datetime.datetime(2017, 3, 31, 14, 47, 0, 127703),\n",
       " datetime.datetime(2017, 3, 30, 14, 47, 0, 127703),\n",
       " datetime.datetime(2017, 3, 29, 14, 47, 0, 127703),\n",
       " datetime.datetime(2017, 3, 28, 14, 47, 0, 127703),\n",
       " datetime.datetime(2017, 3, 27, 14, 47, 0, 127703),\n",
       " datetime.datetime(2017, 3, 26, 14, 47, 0, 127703),\n",
       " datetime.datetime(2017, 3, 25, 14, 47, 0, 127703),\n",
       " datetime.datetime(2017, 3, 24, 14, 47, 0, 127703),\n",
       " datetime.datetime(2017, 3, 23, 14, 47, 0, 127703),\n",
       " datetime.datetime(2017, 3, 22, 14, 47, 0, 127703),\n",
       " datetime.datetime(2017, 3, 21, 14, 47, 0, 127703),\n",
       " datetime.datetime(2017, 3, 20, 14, 47, 0, 127703),\n",
       " datetime.datetime(2017, 3, 19, 14, 47, 0, 127703),\n",
       " datetime.datetime(2017, 3, 18, 14, 47, 0, 127703),\n",
       " datetime.datetime(2017, 3, 17, 14, 47, 0, 127703),\n",
       " datetime.datetime(2017, 3, 16, 14, 47, 0, 127703),\n",
       " datetime.datetime(2017, 3, 15, 14, 47, 0, 127703),\n",
       " datetime.datetime(2017, 3, 14, 14, 47, 0, 127703),\n",
       " datetime.datetime(2017, 3, 13, 14, 47, 0, 127703),\n",
       " datetime.datetime(2017, 3, 12, 14, 47, 0, 127703),\n",
       " datetime.datetime(2017, 3, 11, 14, 47, 0, 127703),\n",
       " datetime.datetime(2017, 3, 10, 14, 47, 0, 127703),\n",
       " datetime.datetime(2017, 3, 9, 14, 47, 0, 127703),\n",
       " datetime.datetime(2017, 3, 8, 14, 47, 0, 127703),\n",
       " datetime.datetime(2017, 3, 7, 14, 47, 0, 127703),\n",
       " datetime.datetime(2017, 3, 6, 14, 47, 0, 127703),\n",
       " datetime.datetime(2017, 3, 5, 14, 47, 0, 127703),\n",
       " datetime.datetime(2017, 3, 4, 14, 47, 0, 127703),\n",
       " datetime.datetime(2017, 3, 3, 14, 47, 0, 127703),\n",
       " datetime.datetime(2017, 3, 2, 14, 47, 0, 127703),\n",
       " datetime.datetime(2017, 3, 1, 14, 47, 0, 127703),\n",
       " datetime.datetime(2017, 2, 28, 14, 47, 0, 127703),\n",
       " datetime.datetime(2017, 2, 27, 14, 47, 0, 127703),\n",
       " datetime.datetime(2017, 2, 26, 14, 47, 0, 127703),\n",
       " datetime.datetime(2017, 2, 25, 14, 47, 0, 127703),\n",
       " datetime.datetime(2017, 2, 24, 14, 47, 0, 127703),\n",
       " datetime.datetime(2017, 2, 23, 14, 47, 0, 127703),\n",
       " datetime.datetime(2017, 2, 22, 14, 47, 0, 127703),\n",
       " datetime.datetime(2017, 2, 21, 14, 47, 0, 127703),\n",
       " datetime.datetime(2017, 2, 20, 14, 47, 0, 127703),\n",
       " datetime.datetime(2017, 2, 19, 14, 47, 0, 127703),\n",
       " datetime.datetime(2017, 2, 18, 14, 47, 0, 127703),\n",
       " datetime.datetime(2017, 2, 17, 14, 47, 0, 127703),\n",
       " datetime.datetime(2017, 2, 16, 14, 47, 0, 127703),\n",
       " datetime.datetime(2017, 2, 15, 14, 47, 0, 127703),\n",
       " datetime.datetime(2017, 2, 14, 14, 47, 0, 127703),\n",
       " datetime.datetime(2017, 2, 13, 14, 47, 0, 127703),\n",
       " datetime.datetime(2017, 2, 12, 14, 47, 0, 127703),\n",
       " datetime.datetime(2017, 2, 11, 14, 47, 0, 127703),\n",
       " datetime.datetime(2017, 2, 10, 14, 47, 0, 127703)]"
      ]
     },
     "execution_count": 35,
     "metadata": {},
     "output_type": "execute_result"
    }
   ],
   "source": [
    "# Question 4:\n",
    "\n",
    "import datetime\n",
    "base = datetime.datetime.today()\n",
    "date_list = [base - datetime.timedelta(days=x) for x in range(0, 100)]\n",
    "date_list"
   ]
  },
  {
   "cell_type": "code",
   "execution_count": 49,
   "metadata": {
    "collapsed": false
   },
   "outputs": [
    {
     "data": {
      "text/plain": [
       "datetime.date(2011, 1, 1)"
      ]
     },
     "execution_count": 49,
     "metadata": {},
     "output_type": "execute_result"
    }
   ],
   "source": [
    "import datetime\n",
    "start_date = datetime.date(2011, 1, 1)\n",
    "end_date   = datetime.date(2014, 1, 1)\n",
    "\n",
    "dates_2011_2013 = [ start_date + datetime.timedelta(n) for n in range(int ((end_date - start_date).days))]\n",
    "dates_2011_2013[0]"
   ]
  },
  {
   "cell_type": "code",
   "execution_count": 44,
   "metadata": {
    "collapsed": false
   },
   "outputs": [
    {
     "data": {
      "text/plain": [
       "'2011'"
      ]
     },
     "execution_count": 44,
     "metadata": {},
     "output_type": "execute_result"
    }
   ],
   "source": [
    "datetime.date(2011, 2, 11).strftime(\"%Y\")"
   ]
  },
  {
   "cell_type": "code",
   "execution_count": 46,
   "metadata": {
    "collapsed": false
   },
   "outputs": [
    {
     "data": {
      "text/plain": [
       "'11'"
      ]
     },
     "execution_count": 46,
     "metadata": {},
     "output_type": "execute_result"
    }
   ],
   "source": [
    "datetime.date(2011, 2, 11).strftime(\"%d\")"
   ]
  },
  {
   "cell_type": "code",
   "execution_count": 48,
   "metadata": {
    "collapsed": false
   },
   "outputs": [
    {
     "data": {
      "text/plain": [
       "'02'"
      ]
     },
     "execution_count": 48,
     "metadata": {},
     "output_type": "execute_result"
    }
   ],
   "source": [
    "datetime.date(2011, 2, 11).strftime(\"%m\")"
   ]
  },
  {
   "cell_type": "code",
   "execution_count": 50,
   "metadata": {
    "collapsed": false
   },
   "outputs": [
    {
     "data": {
      "text/plain": [
       "'11022011'"
      ]
     },
     "execution_count": 50,
     "metadata": {},
     "output_type": "execute_result"
    }
   ],
   "source": [
    "date = datetime.date(2011, 2, 11).strftime(\"%d\") +datetime.date(2011, 2, 11).strftime(\"%m\")+datetime.date(2011, 2, 11).strftime(\"%Y\")\n",
    "date"
   ]
  },
  {
   "cell_type": "code",
   "execution_count": 56,
   "metadata": {
    "collapsed": false
   },
   "outputs": [
    {
     "data": {
      "text/plain": [
       "36"
      ]
     },
     "execution_count": 56,
     "metadata": {},
     "output_type": "execute_result"
    }
   ],
   "source": [
    "import datetime\n",
    "\n",
    "def palindrome(string):\n",
    "    for i,char in enumerate(string):\n",
    "        if char != string[-i-1]:\n",
    "            return False\n",
    "    return True\n",
    "\n",
    "def  find_palindromes(year):\n",
    "    start_year = int(year/1000) * 1000\n",
    "    end_year= (int(year/1000)+1) * 1000\n",
    "    start_date = datetime.date(start_year, 1, 1)\n",
    "    end_date = datetime.date(end_year, 1,1)\n",
    "    \n",
    "    dates = [ start_date + datetime.timedelta(n) for n in range(int ((end_date - start_date).days))]\n",
    "    \n",
    "    count = 0\n",
    "    for date in dates:\n",
    "        date_string = date.strftime(\"%m\") + date.strftime(\"%d\")+ date.strftime(\"%Y\")\n",
    "        if palindrome(date_string):\n",
    "            count = count+1\n",
    "    return count\n",
    "\n",
    "find_palindromes(2016)"
   ]
  },
  {
   "cell_type": "code",
   "execution_count": 52,
   "metadata": {
    "collapsed": false
   },
   "outputs": [
    {
     "data": {
      "text/plain": [
       "16000"
      ]
     },
     "execution_count": 52,
     "metadata": {},
     "output_type": "execute_result"
    }
   ],
   "source": [
    "2016%1000 * 1000"
   ]
  },
  {
   "cell_type": "code",
   "execution_count": null,
   "metadata": {
    "collapsed": true
   },
   "outputs": [],
   "source": []
  }
 ],
 "metadata": {
  "kernelspec": {
   "display_name": "Python 3",
   "language": "python",
   "name": "python3"
  },
  "language_info": {
   "codemirror_mode": {
    "name": "ipython",
    "version": 3
   },
   "file_extension": ".py",
   "mimetype": "text/x-python",
   "name": "python",
   "nbconvert_exporter": "python",
   "pygments_lexer": "ipython3",
   "version": "3.5.2"
  }
 },
 "nbformat": 4,
 "nbformat_minor": 2
}
