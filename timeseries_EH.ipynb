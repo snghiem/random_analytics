{
 "cells": [
  {
   "cell_type": "code",
   "execution_count": 1,
   "metadata": {
    "collapsed": true
   },
   "outputs": [],
   "source": [
    "import pandas as pd\n",
    "import numpy as np\n",
    "from datetime import datetime"
   ]
  },
  {
   "cell_type": "code",
   "execution_count": 2,
   "metadata": {
    "collapsed": true
   },
   "outputs": [],
   "source": [
    "df1 = pd.read_csv('timeseries_events.csv')\n",
    "df2 = pd.read_csv('timeseries_users.csv')"
   ]
  },
  {
   "cell_type": "code",
   "execution_count": 3,
   "metadata": {
    "collapsed": false
   },
   "outputs": [
    {
     "data": {
      "text/html": [
       "<div>\n",
       "<table border=\"1\" class=\"dataframe\">\n",
       "  <thead>\n",
       "    <tr style=\"text-align: right;\">\n",
       "      <th></th>\n",
       "      <th>user_id</th>\n",
       "      <th>event_date</th>\n",
       "    </tr>\n",
       "  </thead>\n",
       "  <tbody>\n",
       "    <tr>\n",
       "      <th>0</th>\n",
       "      <td>0</td>\n",
       "      <td>2015-02-26 00:00:00</td>\n",
       "    </tr>\n",
       "    <tr>\n",
       "      <th>1</th>\n",
       "      <td>0</td>\n",
       "      <td>2015-03-10 00:00:00</td>\n",
       "    </tr>\n",
       "    <tr>\n",
       "      <th>2</th>\n",
       "      <td>0</td>\n",
       "      <td>2015-03-30 00:00:00</td>\n",
       "    </tr>\n",
       "    <tr>\n",
       "      <th>3</th>\n",
       "      <td>0</td>\n",
       "      <td>2015-02-15 00:00:00</td>\n",
       "    </tr>\n",
       "    <tr>\n",
       "      <th>4</th>\n",
       "      <td>0</td>\n",
       "      <td>2015-02-18 00:00:00</td>\n",
       "    </tr>\n",
       "  </tbody>\n",
       "</table>\n",
       "</div>"
      ],
      "text/plain": [
       "   user_id           event_date\n",
       "0        0  2015-02-26 00:00:00\n",
       "1        0  2015-03-10 00:00:00\n",
       "2        0  2015-03-30 00:00:00\n",
       "3        0  2015-02-15 00:00:00\n",
       "4        0  2015-02-18 00:00:00"
      ]
     },
     "execution_count": 3,
     "metadata": {},
     "output_type": "execute_result"
    }
   ],
   "source": [
    "df1.head()"
   ]
  },
  {
   "cell_type": "code",
   "execution_count": 4,
   "metadata": {
    "collapsed": false
   },
   "outputs": [
    {
     "data": {
      "text/html": [
       "<div>\n",
       "<table border=\"1\" class=\"dataframe\">\n",
       "  <thead>\n",
       "    <tr style=\"text-align: right;\">\n",
       "      <th></th>\n",
       "      <th>user_id</th>\n",
       "    </tr>\n",
       "  </thead>\n",
       "  <tbody>\n",
       "    <tr>\n",
       "      <th>count</th>\n",
       "      <td>30593.000000</td>\n",
       "    </tr>\n",
       "    <tr>\n",
       "      <th>mean</th>\n",
       "      <td>50.426634</td>\n",
       "    </tr>\n",
       "    <tr>\n",
       "      <th>std</th>\n",
       "      <td>29.903165</td>\n",
       "    </tr>\n",
       "    <tr>\n",
       "      <th>min</th>\n",
       "      <td>0.000000</td>\n",
       "    </tr>\n",
       "    <tr>\n",
       "      <th>25%</th>\n",
       "      <td>21.000000</td>\n",
       "    </tr>\n",
       "    <tr>\n",
       "      <th>50%</th>\n",
       "      <td>53.000000</td>\n",
       "    </tr>\n",
       "    <tr>\n",
       "      <th>75%</th>\n",
       "      <td>80.000000</td>\n",
       "    </tr>\n",
       "    <tr>\n",
       "      <th>max</th>\n",
       "      <td>96.000000</td>\n",
       "    </tr>\n",
       "  </tbody>\n",
       "</table>\n",
       "</div>"
      ],
      "text/plain": [
       "            user_id\n",
       "count  30593.000000\n",
       "mean      50.426634\n",
       "std       29.903165\n",
       "min        0.000000\n",
       "25%       21.000000\n",
       "50%       53.000000\n",
       "75%       80.000000\n",
       "max       96.000000"
      ]
     },
     "execution_count": 4,
     "metadata": {},
     "output_type": "execute_result"
    }
   ],
   "source": [
    "df1.describe()"
   ]
  },
  {
   "cell_type": "code",
   "execution_count": 5,
   "metadata": {
    "collapsed": false
   },
   "outputs": [
    {
     "data": {
      "text/html": [
       "<div>\n",
       "<table border=\"1\" class=\"dataframe\">\n",
       "  <thead>\n",
       "    <tr style=\"text-align: right;\">\n",
       "      <th></th>\n",
       "      <th>age</th>\n",
       "      <th>gender</th>\n",
       "      <th>user_id</th>\n",
       "    </tr>\n",
       "  </thead>\n",
       "  <tbody>\n",
       "    <tr>\n",
       "      <th>0</th>\n",
       "      <td>51</td>\n",
       "      <td>f</td>\n",
       "      <td>0</td>\n",
       "    </tr>\n",
       "    <tr>\n",
       "      <th>1</th>\n",
       "      <td>49</td>\n",
       "      <td>f</td>\n",
       "      <td>1</td>\n",
       "    </tr>\n",
       "    <tr>\n",
       "      <th>2</th>\n",
       "      <td>35</td>\n",
       "      <td>m</td>\n",
       "      <td>2</td>\n",
       "    </tr>\n",
       "    <tr>\n",
       "      <th>3</th>\n",
       "      <td>63</td>\n",
       "      <td>m</td>\n",
       "      <td>3</td>\n",
       "    </tr>\n",
       "    <tr>\n",
       "      <th>4</th>\n",
       "      <td>27</td>\n",
       "      <td>f</td>\n",
       "      <td>4</td>\n",
       "    </tr>\n",
       "  </tbody>\n",
       "</table>\n",
       "</div>"
      ],
      "text/plain": [
       "   age gender  user_id\n",
       "0   51      f        0\n",
       "1   49      f        1\n",
       "2   35      m        2\n",
       "3   63      m        3\n",
       "4   27      f        4"
      ]
     },
     "execution_count": 5,
     "metadata": {},
     "output_type": "execute_result"
    }
   ],
   "source": [
    "df2.head()"
   ]
  },
  {
   "cell_type": "code",
   "execution_count": 6,
   "metadata": {
    "collapsed": false
   },
   "outputs": [
    {
     "data": {
      "text/html": [
       "<div>\n",
       "<table border=\"1\" class=\"dataframe\">\n",
       "  <thead>\n",
       "    <tr style=\"text-align: right;\">\n",
       "      <th></th>\n",
       "      <th>age</th>\n",
       "      <th>gender</th>\n",
       "      <th>user_id</th>\n",
       "      <th>count</th>\n",
       "    </tr>\n",
       "  </thead>\n",
       "  <tbody>\n",
       "    <tr>\n",
       "      <th>0</th>\n",
       "      <td>35</td>\n",
       "      <td>m</td>\n",
       "      <td>2</td>\n",
       "      <td>0</td>\n",
       "    </tr>\n",
       "    <tr>\n",
       "      <th>1</th>\n",
       "      <td>63</td>\n",
       "      <td>m</td>\n",
       "      <td>3</td>\n",
       "      <td>0</td>\n",
       "    </tr>\n",
       "    <tr>\n",
       "      <th>2</th>\n",
       "      <td>45</td>\n",
       "      <td>m</td>\n",
       "      <td>12</td>\n",
       "      <td>0</td>\n",
       "    </tr>\n",
       "    <tr>\n",
       "      <th>3</th>\n",
       "      <td>51</td>\n",
       "      <td>m</td>\n",
       "      <td>17</td>\n",
       "      <td>0</td>\n",
       "    </tr>\n",
       "    <tr>\n",
       "      <th>4</th>\n",
       "      <td>41</td>\n",
       "      <td>m</td>\n",
       "      <td>21</td>\n",
       "      <td>0</td>\n",
       "    </tr>\n",
       "  </tbody>\n",
       "</table>\n",
       "</div>"
      ],
      "text/plain": [
       "   age gender  user_id  count\n",
       "0   35      m        2      0\n",
       "1   63      m        3      0\n",
       "2   45      m       12      0\n",
       "3   51      m       17      0\n",
       "4   41      m       21      0"
      ]
     },
     "execution_count": 6,
     "metadata": {},
     "output_type": "execute_result"
    }
   ],
   "source": [
    "male30 = df2[(df2.gender =='m') & (df2.age>=30)].reset_index(drop=True)\n",
    "male30.insert(loc=3,column='count',value=0)\n",
    "male30.head()"
   ]
  },
  {
   "cell_type": "code",
   "execution_count": 7,
   "metadata": {
    "collapsed": false
   },
   "outputs": [],
   "source": [
    "for id in df1['user_id']:\n",
    "    if id in male30['user_id']:\n",
    "        row_number = male30.index.get_loc(id)\n",
    "        temp = male30.iloc[row_number, 3] +1\n",
    "        male30.set_value(index=row_number, col='count', value= temp)"
   ]
  },
  {
   "cell_type": "code",
   "execution_count": 8,
   "metadata": {
    "collapsed": false
   },
   "outputs": [
    {
     "data": {
      "text/plain": [
       "<matplotlib.axes._subplots.AxesSubplot at 0x7f4ea370d358>"
      ]
     },
     "execution_count": 8,
     "metadata": {},
     "output_type": "execute_result"
    },
    {
     "data": {
      "image/png": "[encoded data removed]",
      "text/plain": [
       "<matplotlib.figure.Figure at 0x7f4ea75daac8>"
      ]
     },
     "metadata": {},
     "output_type": "display_data"
    }
   ],
   "source": [
    "# histogram of events of male>30\n",
    "%matplotlib inline\n",
    "male30['count'].plot(kind='hist')"
   ]
  },
  {
   "cell_type": "code",
   "execution_count": 9,
   "metadata": {
    "collapsed": false
   },
   "outputs": [
    {
     "data": {
      "text/plain": [
       "array([ 0,  1,  2,  3,  4,  5,  6,  7,  8,  9, 10, 11, 12, 13, 14, 15, 16,\n",
       "       17, 18, 19, 20, 21, 22, 23, 24, 25, 26, 27, 28, 29, 30, 31, 32, 33,\n",
       "       34, 35, 36, 37, 38, 39, 40, 41, 42, 43, 44, 45, 46, 47, 48, 49, 50,\n",
       "       51, 52, 53, 54, 55, 56, 57, 58, 59, 60, 61, 62, 63, 64, 65, 66, 67,\n",
       "       68, 69, 70, 71, 72, 73, 74, 75, 76, 77, 78, 79, 80, 81, 82, 83, 84,\n",
       "       85, 86, 87, 88, 89, 90, 91, 92, 93, 94, 95, 96])"
      ]
     },
     "execution_count": 9,
     "metadata": {},
     "output_type": "execute_result"
    }
   ],
   "source": [
    "df1['user_id'].unique()"
   ]
  },
  {
   "cell_type": "code",
   "execution_count": 10,
   "metadata": {
    "collapsed": false
   },
   "outputs": [],
   "source": [
    "for i in range(len(df1)):\n",
    "    df1.iloc[i,1] = datetime.strptime(df1.iloc[i,1],\"%Y-%m-%d %H:%M:%S\")"
   ]
  },
  {
   "cell_type": "code",
   "execution_count": 11,
   "metadata": {
    "collapsed": false
   },
   "outputs": [
    {
     "data": {
      "text/html": [
       "<div>\n",
       "<table border=\"1\" class=\"dataframe\">\n",
       "  <thead>\n",
       "    <tr style=\"text-align: right;\">\n",
       "      <th></th>\n",
       "      <th>user_id</th>\n",
       "      <th>event_date</th>\n",
       "    </tr>\n",
       "  </thead>\n",
       "  <tbody>\n",
       "    <tr>\n",
       "      <th>38</th>\n",
       "      <td>0</td>\n",
       "      <td>2015-01-15 00:00:00</td>\n",
       "    </tr>\n",
       "    <tr>\n",
       "      <th>144</th>\n",
       "      <td>0</td>\n",
       "      <td>2015-01-15 00:00:00</td>\n",
       "    </tr>\n",
       "    <tr>\n",
       "      <th>72</th>\n",
       "      <td>0</td>\n",
       "      <td>2015-01-16 00:00:00</td>\n",
       "    </tr>\n",
       "    <tr>\n",
       "      <th>129</th>\n",
       "      <td>0</td>\n",
       "      <td>2015-01-16 00:00:00</td>\n",
       "    </tr>\n",
       "    <tr>\n",
       "      <th>6</th>\n",
       "      <td>0</td>\n",
       "      <td>2015-01-17 00:00:00</td>\n",
       "    </tr>\n",
       "  </tbody>\n",
       "</table>\n",
       "</div>"
      ],
      "text/plain": [
       "     user_id           event_date\n",
       "38         0  2015-01-15 00:00:00\n",
       "144        0  2015-01-15 00:00:00\n",
       "72         0  2015-01-16 00:00:00\n",
       "129        0  2015-01-16 00:00:00\n",
       "6          0  2015-01-17 00:00:00"
      ]
     },
     "execution_count": 11,
     "metadata": {},
     "output_type": "execute_result"
    }
   ],
   "source": [
    "sorted_df1 = df1.sort_values(by=['user_id','event_date'])\n",
    "sorted_df1.head()"
   ]
  },
  {
   "cell_type": "code",
   "execution_count": 12,
   "metadata": {
    "collapsed": false
   },
   "outputs": [],
   "source": [
    "# calculate intervals in term of days for each user \n",
    "for i in range(1,len(sorted_df1)):\n",
    "    if sorted_df1.iloc[i-1,0] == sorted_df1.iloc[i,0]:\n",
    "        sorted_df1.set_value(index=i, col = 'intervals', value = (sorted_df1.iloc[i,1] - sorted_df1.iloc[i-1,1]).days)"
   ]
  },
  {
   "cell_type": "code",
   "execution_count": 13,
   "metadata": {
    "collapsed": false
   },
   "outputs": [
    {
     "data": {
      "text/html": [
       "<div>\n",
       "<table border=\"1\" class=\"dataframe\">\n",
       "  <thead>\n",
       "    <tr style=\"text-align: right;\">\n",
       "      <th></th>\n",
       "      <th>user_id</th>\n",
       "      <th>event_date</th>\n",
       "      <th>intervals</th>\n",
       "    </tr>\n",
       "  </thead>\n",
       "  <tbody>\n",
       "    <tr>\n",
       "      <th>38</th>\n",
       "      <td>0</td>\n",
       "      <td>2015-01-15 00:00:00</td>\n",
       "      <td>1.0</td>\n",
       "    </tr>\n",
       "    <tr>\n",
       "      <th>144</th>\n",
       "      <td>0</td>\n",
       "      <td>2015-01-15 00:00:00</td>\n",
       "      <td>1.0</td>\n",
       "    </tr>\n",
       "    <tr>\n",
       "      <th>72</th>\n",
       "      <td>0</td>\n",
       "      <td>2015-01-16 00:00:00</td>\n",
       "      <td>1.0</td>\n",
       "    </tr>\n",
       "    <tr>\n",
       "      <th>129</th>\n",
       "      <td>0</td>\n",
       "      <td>2015-01-16 00:00:00</td>\n",
       "      <td>0.0</td>\n",
       "    </tr>\n",
       "    <tr>\n",
       "      <th>6</th>\n",
       "      <td>0</td>\n",
       "      <td>2015-01-17 00:00:00</td>\n",
       "      <td>0.0</td>\n",
       "    </tr>\n",
       "  </tbody>\n",
       "</table>\n",
       "</div>"
      ],
      "text/plain": [
       "     user_id           event_date  intervals\n",
       "38         0  2015-01-15 00:00:00        1.0\n",
       "144        0  2015-01-15 00:00:00        1.0\n",
       "72         0  2015-01-16 00:00:00        1.0\n",
       "129        0  2015-01-16 00:00:00        0.0\n",
       "6          0  2015-01-17 00:00:00        0.0"
      ]
     },
     "execution_count": 13,
     "metadata": {},
     "output_type": "execute_result"
    }
   ],
   "source": [
    "sorted_df1.head()"
   ]
  },
  {
   "cell_type": "code",
   "execution_count": 14,
   "metadata": {
    "collapsed": false
   },
   "outputs": [
    {
     "data": {
      "text/plain": [
       "user_id\n",
       "0     Axes(0.125,0.125;0.775x0.775)\n",
       "1     Axes(0.125,0.125;0.775x0.775)\n",
       "2     Axes(0.125,0.125;0.775x0.775)\n",
       "3     Axes(0.125,0.125;0.775x0.775)\n",
       "4     Axes(0.125,0.125;0.775x0.775)\n",
       "5     Axes(0.125,0.125;0.775x0.775)\n",
       "6     Axes(0.125,0.125;0.775x0.775)\n",
       "7     Axes(0.125,0.125;0.775x0.775)\n",
       "8     Axes(0.125,0.125;0.775x0.775)\n",
       "9     Axes(0.125,0.125;0.775x0.775)\n",
       "10    Axes(0.125,0.125;0.775x0.775)\n",
       "11    Axes(0.125,0.125;0.775x0.775)\n",
       "12    Axes(0.125,0.125;0.775x0.775)\n",
       "13    Axes(0.125,0.125;0.775x0.775)\n",
       "14    Axes(0.125,0.125;0.775x0.775)\n",
       "15    Axes(0.125,0.125;0.775x0.775)\n",
       "16    Axes(0.125,0.125;0.775x0.775)\n",
       "17    Axes(0.125,0.125;0.775x0.775)\n",
       "18    Axes(0.125,0.125;0.775x0.775)\n",
       "19    Axes(0.125,0.125;0.775x0.775)\n",
       "20    Axes(0.125,0.125;0.775x0.775)\n",
       "21    Axes(0.125,0.125;0.775x0.775)\n",
       "22    Axes(0.125,0.125;0.775x0.775)\n",
       "23    Axes(0.125,0.125;0.775x0.775)\n",
       "24    Axes(0.125,0.125;0.775x0.775)\n",
       "25    Axes(0.125,0.125;0.775x0.775)\n",
       "26    Axes(0.125,0.125;0.775x0.775)\n",
       "27    Axes(0.125,0.125;0.775x0.775)\n",
       "28    Axes(0.125,0.125;0.775x0.775)\n",
       "29    Axes(0.125,0.125;0.775x0.775)\n",
       "                  ...              \n",
       "67    Axes(0.125,0.125;0.775x0.775)\n",
       "68    Axes(0.125,0.125;0.775x0.775)\n",
       "69    Axes(0.125,0.125;0.775x0.775)\n",
       "70    Axes(0.125,0.125;0.775x0.775)\n",
       "71    Axes(0.125,0.125;0.775x0.775)\n",
       "72    Axes(0.125,0.125;0.775x0.775)\n",
       "73    Axes(0.125,0.125;0.775x0.775)\n",
       "74    Axes(0.125,0.125;0.775x0.775)\n",
       "75    Axes(0.125,0.125;0.775x0.775)\n",
       "76    Axes(0.125,0.125;0.775x0.775)\n",
       "77    Axes(0.125,0.125;0.775x0.775)\n",
       "78    Axes(0.125,0.125;0.775x0.775)\n",
       "79    Axes(0.125,0.125;0.775x0.775)\n",
       "80    Axes(0.125,0.125;0.775x0.775)\n",
       "81    Axes(0.125,0.125;0.775x0.775)\n",
       "82    Axes(0.125,0.125;0.775x0.775)\n",
       "83    Axes(0.125,0.125;0.775x0.775)\n",
       "84    Axes(0.125,0.125;0.775x0.775)\n",
       "85    Axes(0.125,0.125;0.775x0.775)\n",
       "86    Axes(0.125,0.125;0.775x0.775)\n",
       "87    Axes(0.125,0.125;0.775x0.775)\n",
       "88    Axes(0.125,0.125;0.775x0.775)\n",
       "89    Axes(0.125,0.125;0.775x0.775)\n",
       "90    Axes(0.125,0.125;0.775x0.775)\n",
       "91    Axes(0.125,0.125;0.775x0.775)\n",
       "92    Axes(0.125,0.125;0.775x0.775)\n",
       "93    Axes(0.125,0.125;0.775x0.775)\n",
       "94    Axes(0.125,0.125;0.775x0.775)\n",
       "95    Axes(0.125,0.125;0.775x0.775)\n",
       "96    Axes(0.125,0.125;0.775x0.775)\n",
       "Name: intervals, dtype: object"
      ]
     },
     "execution_count": 14,
     "metadata": {},
     "output_type": "execute_result"
    },
    {
     "data": {
      "image/png": "[encoded data removed]",
      "text/plain": [
       "<matplotlib.figure.Figure at 0x7f4ea369a518>"
      ]
     },
     "metadata": {},
     "output_type": "display_data"
    }
   ],
   "source": [
    "#histogram of intervals for all users\n",
    "sorted_df1.groupby('user_id')['intervals'].plot(kind='hist',alpha=.5,xlim=[0,30])"
   ]
  },
  {
   "cell_type": "code",
   "execution_count": null,
   "metadata": {
    "collapsed": true
   },
   "outputs": [],
   "source": []
  }
 ],
 "metadata": {
  "kernelspec": {
   "display_name": "Python 3",
   "language": "python",
   "name": "python3"
  },
  "language_info": {
   "codemirror_mode": {
    "name": "ipython",
    "version": 3
   },
   "file_extension": ".py",
   "mimetype": "text/x-python",
   "name": "python",
   "nbconvert_exporter": "python",
   "pygments_lexer": "ipython3",
   "version": "3.5.2"
  }
 },
 "nbformat": 4,
 "nbformat_minor": 2
}
