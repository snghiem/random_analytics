{
 "cells": [
  {
   "cell_type": "markdown",
   "metadata": {},
   "source": [
    "Perform some data cleaning using the provided file, “patent_drawing.csv”. “Patent_drawing.csv” contains a list of patents and a short description of each drawing included with a patent grant. For example, patent number 0233365 (https://patents.google.com/patent/US20030233365A1/en) has 16 images. For each image, there is a brief description of the drawings. The description is included in the “text” field in patent_drawing.csv. \n",
    "\n",
    "Let’s say that we are interested in drawings that embody a specific idea. \n",
    "\n",
    "a)\tHow many of the descriptions mention an embodiment or that they embody something? That is, in how many of the description does the stem “embod-” appear with any ending? (i.e., embody, embodiment, embodying, etc. should all count). \n",
    "\n",
    "b)\tWhat if we are specifically interested in drawing descriptions that embody an invention?  So, here, we would like to identify descriptions that contain phrases like the \"embodiment of the present invention\", \"embodies my invention\", etc. How many descriptions have the word “embod-” (with any ending) followed by \"invention\", even if the two terms are separated by words?\n"
   ]
  },
  {
   "cell_type": "code",
   "execution_count": 1,
   "metadata": {
    "collapsed": true
   },
   "outputs": [],
   "source": [
    "import pandas as pd"
   ]
  },
  {
   "cell_type": "code",
   "execution_count": 2,
   "metadata": {
    "collapsed": false
   },
   "outputs": [],
   "source": [
    "df = pd.read_csv(\"patent_drawing.csv\")    "
   ]
  },
  {
   "cell_type": "code",
   "execution_count": 3,
   "metadata": {
    "collapsed": false
   },
   "outputs": [
    {
     "name": "stdout",
     "output_type": "stream",
     "text": [
      "Number of descriptions mention an embodiment:  1312\n"
     ]
    }
   ],
   "source": [
    "count = 0\n",
    "for description in df['text']:\n",
    "    if \"embod\" in description:\n",
    "        count +=1\n",
    "print(\"Number of descriptions mention an embodiment: \",count)"
   ]
  },
  {
   "cell_type": "code",
   "execution_count": 4,
   "metadata": {
    "collapsed": false
   },
   "outputs": [
    {
     "name": "stdout",
     "output_type": "stream",
     "text": [
      "Number of descriptions have embodiment and invetion:  901\n"
     ]
    }
   ],
   "source": [
    "count2 = 0\n",
    "for description in df['text']:\n",
    "    if (\"embod\" in description) & (\"invention\" in description):\n",
    "        count2 +=1\n",
    "print(\"Number of descriptions have embodiment and invetion: \", count2)"
   ]
  },
  {
   "cell_type": "code",
   "execution_count": null,
   "metadata": {
    "collapsed": true
   },
   "outputs": [],
   "source": []
  }
 ],
 "metadata": {
  "kernelspec": {
   "display_name": "Python 3",
   "language": "python",
   "name": "python3"
  },
  "language_info": {
   "codemirror_mode": {
    "name": "ipython",
    "version": 3
   },
   "file_extension": ".py",
   "mimetype": "text/x-python",
   "name": "python",
   "nbconvert_exporter": "python",
   "pygments_lexer": "ipython3",
   "version": "3.5.2"
  }
 },
 "nbformat": 4,
 "nbformat_minor": 2
}
