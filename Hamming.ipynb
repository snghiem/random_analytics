{
 "cells": [
  {
   "cell_type": "markdown",
   "metadata": {},
   "source": [
    "Write a program to calculate a variant of the Hamming distance with two key modifications to the standard algorithm. In information theory, the Hamming distance is a measure of the distance between two text strings. This is calculated by adding one to the Hamming distance for each character that is different between the two strings. For example, “kitten\" and “mitten\" have a Hamming distance of 1. See https://en.wikipedia.org/wiki/Hamming_distance for more information. \n",
    "\n",
    "Modifications to the standard Hamming distance algorithm for the purposes of this exercise include: "
   ]
  },
  {
   "cell_type": "code",
   "execution_count": 44,
   "metadata": {
    "collapsed": false
   },
   "outputs": [],
   "source": [
    "# Add .5 to the Hamming distance if a capital letter is switched for a lower case letter \n",
    "# unless it is in the first position\n",
    "def both_upper_lower(c1,c2):\n",
    "    if c1.isupper() & c2.isupper():\n",
    "        return True\n",
    "    if c1.islower() & c2.islower():\n",
    "        return True\n",
    "    return False\n",
    "\n",
    "def dist_1(s1, s2):\n",
    "    # I assume that both inputs are of same length so I will not test it here\n",
    "    dist = 0\n",
    "    for i in range(len(s1)):\n",
    "        if s1[i]!=s2[i]:\n",
    "            if i!=0:\n",
    "                if s1[i].lower() != s2[i].lower():\n",
    "                    dist +=1\n",
    "                if not both_upper_lower(s1[i],s2[i]):\n",
    "                    dist += .5\n",
    "            elif s1[i].lower()!= s2[i].lower():\n",
    "                dist +=1\n",
    "    return dist"
   ]
  },
  {
   "cell_type": "code",
   "execution_count": 45,
   "metadata": {
    "collapsed": false
   },
   "outputs": [
    {
     "data": {
      "text/plain": [
       "(0, 0.5, 1.5)"
      ]
     },
     "execution_count": 45,
     "metadata": {},
     "output_type": "execute_result"
    }
   ],
   "source": [
    "dist_1(\"Kitten\",\"kitten\"), dist_1(\"kitten\",\"KiTten\"), dist_1(\"Puppy\",\"POppy\")"
   ]
  },
  {
   "cell_type": "code",
   "execution_count": 52,
   "metadata": {
    "collapsed": false
   },
   "outputs": [],
   "source": [
    "# Consider S and Z (and s and z) to be the same letter.\n",
    "def dist_2(s1,s2):\n",
    "    dist = 0\n",
    "    s_and_z = ['S','Z','s','z']\n",
    "    for i in range(len(s1)):\n",
    "        if s1[i]!=s2[i]:\n",
    "            if i!=0:\n",
    "                if s1[i].lower() != s2[i].lower():\n",
    "                    if (s1[i] not in s_and_z) & (s2[i] not in s_and_z):\n",
    "                        dist +=1\n",
    "                if not both_upper_lower(s1[i],s2[i]):\n",
    "                    dist += .5\n",
    "            elif s1[i].lower()!= s2[i].lower():\n",
    "                dist +=1\n",
    "    return dist"
   ]
  },
  {
   "cell_type": "code",
   "execution_count": 53,
   "metadata": {
    "collapsed": false
   },
   "outputs": [
    {
     "data": {
      "text/plain": [
       "(1, 0.5, 2, 3.5)"
      ]
     },
     "execution_count": 53,
     "metadata": {},
     "output_type": "execute_result"
    }
   ],
   "source": [
    "dist_2(\"make\",\"Mage\"), dist_2(\"MaiSY\",\"MaiZy\"), dist_2(\"Eagle\",\"Eager\"), dist_2(\"Sentences work too.\",\"Sentences wAke too.\")"
   ]
  },
  {
   "cell_type": "code",
   "execution_count": 54,
   "metadata": {
    "collapsed": false
   },
   "outputs": [
    {
     "data": {
      "text/plain": [
       "1"
      ]
     },
     "execution_count": 54,
     "metadata": {},
     "output_type": "execute_result"
    }
   ],
   "source": [
    "dist_2(\"data Science\",\"Data Sciency\")"
   ]
  },
  {
   "cell_type": "code",
   "execution_count": 55,
   "metadata": {
    "collapsed": false
   },
   "outputs": [
    {
     "data": {
      "text/plain": [
       "0.5"
      ]
     },
     "execution_count": 55,
     "metadata": {},
     "output_type": "execute_result"
    }
   ],
   "source": [
    "dist_2(\"organizing\",\"orGanising\")"
   ]
  },
  {
   "cell_type": "code",
   "execution_count": 56,
   "metadata": {
    "collapsed": false
   },
   "outputs": [
    {
     "data": {
      "text/plain": [
       "6.5"
      ]
     },
     "execution_count": 56,
     "metadata": {},
     "output_type": "execute_result"
    }
   ],
   "source": [
    "dist_2(\"AGPRklafsdyweIllIIgEnXuTggzF\",\"AgpRkliFZdiweIllIIgENXUTygSF\")"
   ]
  },
  {
   "cell_type": "markdown",
   "metadata": {},
   "source": [
    "Describe a scenario (3-4 sentences) where implementing the standard Hamming distance algorithm would be applicable: it would be useful in genetic differences/distances or telecommunication signal distances. In term of text & sound analysis, I think of plagiarism, text patterns, etc.\n"
   ]
  },
  {
   "cell_type": "code",
   "execution_count": null,
   "metadata": {
    "collapsed": true
   },
   "outputs": [],
   "source": []
  }
 ],
 "metadata": {
  "kernelspec": {
   "display_name": "Python 3",
   "language": "python",
   "name": "python3"
  },
  "language_info": {
   "codemirror_mode": {
    "name": "ipython",
    "version": 3
   },
   "file_extension": ".py",
   "mimetype": "text/x-python",
   "name": "python",
   "nbconvert_exporter": "python",
   "pygments_lexer": "ipython3",
   "version": "3.5.2"
  }
 },
 "nbformat": 4,
 "nbformat_minor": 2
}
